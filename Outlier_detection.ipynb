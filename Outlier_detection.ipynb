{
 "cells": [
  {
   "cell_type": "raw",
   "id": "96e86cd1",
   "metadata": {},
   "source": [
    "Z-score Calculation:\n",
    "The Z-score, also known as standard score, measures the number of standard deviations a data point is from the mean. The formula for calculating the Z-score of a data point x\n",
    "\n",
    "z = (x-𝜇) 𝜎\n",
    "\n",
    "where  μ is the mean of the data and σ is the standard deviation."
   ]
  },
  {
   "cell_type": "code",
   "execution_count": 4,
   "id": "cece9de6",
   "metadata": {},
   "outputs": [
    {
     "name": "stdout",
     "output_type": "stream",
     "text": [
      "Z-scores: [-0.41184267 -0.40566117 -0.39638891 -0.38093515 -0.36548139 -0.35002764\n",
      " -0.33457388  2.64491081]\n"
     ]
    }
   ],
   "source": [
    "import numpy as np\n",
    "\n",
    "# Sample data\n",
    "data = np.array([10, 12, 15, 20, 25, 30, 35, 999])\n",
    "\n",
    "# Calculate mean and standard deviation\n",
    "mean = np.mean(data)\n",
    "std_dev = np.std(data)\n",
    "\n",
    "# Calculate Z-score for each data point\n",
    "z_scores = (data - mean) / std_dev\n",
    "\n",
    "print(\"Z-scores:\", z_scores)\n"
   ]
  },
  {
   "cell_type": "raw",
   "id": "5ec5dc25",
   "metadata": {},
   "source": [
    "The first data point has a Z-score of approximately -0.4118, indicating it is less than one standard deviation below the mean.\n",
    "The second data point has a Z-score of approximately -0.4057, indicating it is less than one standard deviation below the mean.\n",
    "The third data point has a Z-score of approximately -0.3964, indicating it is less than one standard deviation below the mean.\n",
    "The fourth data point has a Z-score of approximately -0.3809, indicating it is less than one standard deviation below the mean.\n",
    "The fifth data point has a Z-score of approximately -0.3655, indicating it is less than one standard deviation below the mean.\n",
    "The sixth data point has a Z-score of approximately -0.3500, indicating it is less than one standard deviation below the mean.\n",
    "The seventh data point has a Z-score of approximately -0.3346, indicating it is less than one standard deviation below the mean.\n",
    "The eighth data point has a Z-score of approximately 2.6449, indicating it is more than two standard deviations above the mean."
   ]
  },
  {
   "cell_type": "code",
   "execution_count": 2,
   "id": "a5802f60",
   "metadata": {},
   "outputs": [
    {
     "name": "stdout",
     "output_type": "stream",
     "text": [
      "Modified Z-scores: [-0.843125  -0.6745    -0.4215625  0.         0.4215625  0.843125\n",
      "  1.2646875]\n"
     ]
    }
   ],
   "source": [
    "# Calculate median and median absolute deviation (MAD)\n",
    "median = np.median(data)\n",
    "mad = np.median(np.abs(data - median)) #MAD (Median Absolute deviation)\n",
    "\n",
    "# Calculate Modified Z-score for each data point\n",
    "modified_z_scores = 0.6745 * (data - median) / mad\n",
    "\n",
    "print(\"Modified Z-scores:\", modified_z_scores)\n"
   ]
  },
  {
   "cell_type": "raw",
   "id": "22e0b19f",
   "metadata": {},
   "source": [
    "The first data point has a Modified Z-score of approximately -0.843, indicating it is less than one MAD below the median.\n",
    "The second data point has a Modified Z-score of approximately -0.6745, indicating it is slightly less than one MAD below the median.\n",
    "The third data point has a Modified Z-score of approximately -0.4216, indicating it is less than half a MAD below the median.\n",
    "The fourth data point has a Modified Z-score of 0, indicating it is equal to the median.\n",
    "The fifth data point has a Modified Z-score of approximately 0.4216, indicating it is less than half a MAD above the median.\n",
    "The sixth data point has a Modified Z-score of approximately 0.843, indicating it is less than one MAD above the median.\n",
    "The seventh data point has a Modified Z-score of approximately 1.2647, indicating it is slightly more than one MAD above the median.\n"
   ]
  }
 ],
 "metadata": {
  "kernelspec": {
   "display_name": "Python 3 (ipykernel)",
   "language": "python",
   "name": "python3"
  },
  "language_info": {
   "codemirror_mode": {
    "name": "ipython",
    "version": 3
   },
   "file_extension": ".py",
   "mimetype": "text/x-python",
   "name": "python",
   "nbconvert_exporter": "python",
   "pygments_lexer": "ipython3",
   "version": "3.11.5"
  }
 },
 "nbformat": 4,
 "nbformat_minor": 5
}
