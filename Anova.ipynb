{
 "cells": [
  {
   "cell_type": "code",
   "execution_count": 2,
   "id": "ac4a6165",
   "metadata": {},
   "outputs": [
    {
     "name": "stderr",
     "output_type": "stream",
     "text": [
      "/opt/anaconda3/lib/python3.11/site-packages/seaborn/_oldcore.py:1119: FutureWarning: use_inf_as_na option is deprecated and will be removed in a future version. Convert inf values to NaN before operating instead.\n",
      "  with pd.option_context('mode.use_inf_as_na', True):\n",
      "/opt/anaconda3/lib/python3.11/site-packages/seaborn/_oldcore.py:1119: FutureWarning: use_inf_as_na option is deprecated and will be removed in a future version. Convert inf values to NaN before operating instead.\n",
      "  with pd.option_context('mode.use_inf_as_na', True):\n"
     ]
    },
    {
     "data": {
      "image/png": "[encoded data removed]",
      "text/plain": [
       "<Figure size 640x480 with 1 Axes>"
      ]
     },
     "metadata": {},
     "output_type": "display_data"
    }
   ],
   "source": [
    "import pandas as pd\n",
    "# load data file\n",
    "df = pd.read_csv(\"https://reneshbedre.github.io/assets/posts/anova/onewayanova.txt\", sep=\"\\t\")\n",
    "# reshape the d dataframe suitable for statsmodels package \n",
    "df_melt = pd.melt(df.reset_index(), id_vars=['index'], value_vars=['A', 'B', 'C', 'D'])\n",
    "# replace column names\n",
    "df_melt.columns = ['index', 'treatments', 'value']\n",
    "\n",
    "# generate a boxplot to see the data distribution by treatments. Using boxplot, we can \n",
    "# easily detect the differences between different treatments\n",
    "import matplotlib.pyplot as plt\n",
    "import seaborn as sns\n",
    "ax = sns.boxplot(x='treatments', y='value', data=df_melt, color='#99c2a2')\n",
    "ax = sns.swarmplot(x=\"treatments\", y=\"value\", data=df_melt, color='#7d0013')\n",
    "plt.show()"
   ]
  },
  {
   "cell_type": "code",
   "execution_count": 4,
   "id": "564484ee",
   "metadata": {},
   "outputs": [
    {
     "name": "stdout",
     "output_type": "stream",
     "text": [
      "17.492810457516338 2.639241146210922e-05\n"
     ]
    }
   ],
   "source": [
    "import scipy.stats as stats\n",
    "# stats f_oneway functions takes the groups as input and returns ANOVA F and p value\n",
    "fvalue, pvalue = stats.f_oneway(df['A'], df['B'], df['C'], df['D'])\n",
    "print(fvalue, pvalue)"
   ]
  },
  {
   "cell_type": "code",
   "execution_count": 5,
   "id": "85da1d1e",
   "metadata": {},
   "outputs": [
    {
     "data": {
      "text/html": [
       "<div>\n",
       "<style scoped>\n",
       "    .dataframe tbody tr th:only-of-type {\n",
       "        vertical-align: middle;\n",
       "    }\n",
       "\n",
       "    .dataframe tbody tr th {\n",
       "        vertical-align: top;\n",
       "    }\n",
       "\n",
       "    .dataframe thead th {\n",
       "        text-align: right;\n",
       "    }\n",
       "</style>\n",
       "<table border=\"1\" class=\"dataframe\">\n",
       "  <thead>\n",
       "    <tr style=\"text-align: right;\">\n",
       "      <th></th>\n",
       "      <th>sum_sq</th>\n",
       "      <th>df</th>\n",
       "      <th>F</th>\n",
       "      <th>PR(&gt;F)</th>\n",
       "    </tr>\n",
       "  </thead>\n",
       "  <tbody>\n",
       "    <tr>\n",
       "      <th>C(treatments)</th>\n",
       "      <td>3010.95</td>\n",
       "      <td>3.0</td>\n",
       "      <td>17.49281</td>\n",
       "      <td>0.000026</td>\n",
       "    </tr>\n",
       "    <tr>\n",
       "      <th>Residual</th>\n",
       "      <td>918.00</td>\n",
       "      <td>16.0</td>\n",
       "      <td>NaN</td>\n",
       "      <td>NaN</td>\n",
       "    </tr>\n",
       "  </tbody>\n",
       "</table>\n",
       "</div>"
      ],
      "text/plain": [
       "                sum_sq    df         F    PR(>F)\n",
       "C(treatments)  3010.95   3.0  17.49281  0.000026\n",
       "Residual        918.00  16.0       NaN       NaN"
      ]
     },
     "execution_count": 5,
     "metadata": {},
     "output_type": "execute_result"
    }
   ],
   "source": [
    "# get ANOVA table as R like output\n",
    "import statsmodels.api as sm\n",
    "from statsmodels.formula.api import ols\n",
    "\n",
    "# Ordinary Least Squares (OLS) model\n",
    "model = ols('value ~ C(treatments)', data=df_melt).fit()\n",
    "anova_table = sm.stats.anova_lm(model, typ=2)\n",
    "anova_table"
   ]
  },
  {
   "cell_type": "code",
   "execution_count": 7,
   "id": "037d4d0a",
   "metadata": {},
   "outputs": [
    {
     "name": "stdout",
     "output_type": "stream",
     "text": [
      "Collecting bioinfokit\n",
      "  Downloading bioinfokit-2.1.3.tar.gz (87 kB)\n",
      "\u001b[2K     \u001b[90m━━━━━━━━━━━━━━━━━━━━━━━━━━━━━━━━━━━━━━━━\u001b[0m \u001b[32m87.7/87.7 kB\u001b[0m \u001b[31m6.4 MB/s\u001b[0m eta \u001b[36m0:00:00\u001b[0m\n",
      "\u001b[?25h  Preparing metadata (setup.py) ... \u001b[?25ldone\n",
      "\u001b[?25hRequirement already satisfied: pandas in /opt/anaconda3/lib/python3.11/site-packages (from bioinfokit) (2.1.4)\n",
      "Requirement already satisfied: numpy in /opt/anaconda3/lib/python3.11/site-packages (from bioinfokit) (1.23.5)\n",
      "Requirement already satisfied: matplotlib in /opt/anaconda3/lib/python3.11/site-packages (from bioinfokit) (3.8.0)\n",
      "Requirement already satisfied: scipy in /opt/anaconda3/lib/python3.11/site-packages (from bioinfokit) (1.11.4)\n",
      "Requirement already satisfied: scikit-learn in /opt/anaconda3/lib/python3.11/site-packages (from bioinfokit) (1.2.2)\n",
      "Requirement already satisfied: seaborn in /opt/anaconda3/lib/python3.11/site-packages (from bioinfokit) (0.12.2)\n",
      "Collecting matplotlib-venn (from bioinfokit)\n",
      "  Downloading matplotlib_venn-0.11.10-py3-none-any.whl.metadata (6.4 kB)\n",
      "Requirement already satisfied: tabulate in /opt/anaconda3/lib/python3.11/site-packages (from bioinfokit) (0.9.0)\n",
      "Requirement already satisfied: statsmodels in /opt/anaconda3/lib/python3.11/site-packages (from bioinfokit) (0.14.0)\n",
      "Collecting textwrap3 (from bioinfokit)\n",
      "  Downloading textwrap3-0.9.2-py2.py3-none-any.whl.metadata (4.6 kB)\n",
      "Collecting adjustText (from bioinfokit)\n",
      "  Downloading adjustText-1.1.1-py3-none-any.whl.metadata (3.0 kB)\n",
      "Requirement already satisfied: contourpy>=1.0.1 in /opt/anaconda3/lib/python3.11/site-packages (from matplotlib->bioinfokit) (1.2.0)\n",
      "Requirement already satisfied: cycler>=0.10 in /opt/anaconda3/lib/python3.11/site-packages (from matplotlib->bioinfokit) (0.11.0)\n",
      "Requirement already satisfied: fonttools>=4.22.0 in /opt/anaconda3/lib/python3.11/site-packages (from matplotlib->bioinfokit) (4.25.0)\n",
      "Requirement already satisfied: kiwisolver>=1.0.1 in /opt/anaconda3/lib/python3.11/site-packages (from matplotlib->bioinfokit) (1.4.4)\n",
      "Requirement already satisfied: packaging>=20.0 in /opt/anaconda3/lib/python3.11/site-packages (from matplotlib->bioinfokit) (23.1)\n",
      "Requirement already satisfied: pillow>=6.2.0 in /opt/anaconda3/lib/python3.11/site-packages (from matplotlib->bioinfokit) (10.2.0)\n",
      "Requirement already satisfied: pyparsing>=2.3.1 in /opt/anaconda3/lib/python3.11/site-packages (from matplotlib->bioinfokit) (3.0.9)\n",
      "Requirement already satisfied: python-dateutil>=2.7 in /opt/anaconda3/lib/python3.11/site-packages (from matplotlib->bioinfokit) (2.8.2)\n",
      "Requirement already satisfied: pytz>=2020.1 in /opt/anaconda3/lib/python3.11/site-packages (from pandas->bioinfokit) (2023.3.post1)\n",
      "Requirement already satisfied: tzdata>=2022.1 in /opt/anaconda3/lib/python3.11/site-packages (from pandas->bioinfokit) (2023.3)\n",
      "Requirement already satisfied: joblib>=1.1.1 in /opt/anaconda3/lib/python3.11/site-packages (from scikit-learn->bioinfokit) (1.2.0)\n",
      "Requirement already satisfied: threadpoolctl>=2.0.0 in /opt/anaconda3/lib/python3.11/site-packages (from scikit-learn->bioinfokit) (3.1.0)\n",
      "Requirement already satisfied: patsy>=0.5.2 in /opt/anaconda3/lib/python3.11/site-packages (from statsmodels->bioinfokit) (0.5.3)\n",
      "Requirement already satisfied: six in /opt/anaconda3/lib/python3.11/site-packages (from patsy>=0.5.2->statsmodels->bioinfokit) (1.16.0)\n",
      "Downloading adjustText-1.1.1-py3-none-any.whl (11 kB)\n",
      "Downloading matplotlib_venn-0.11.10-py3-none-any.whl (33 kB)\n",
      "Downloading textwrap3-0.9.2-py2.py3-none-any.whl (12 kB)\n",
      "Building wheels for collected packages: bioinfokit\n",
      "  Building wheel for bioinfokit (setup.py) ... \u001b[?25ldone\n",
      "\u001b[?25h  Created wheel for bioinfokit: filename=bioinfokit-2.1.3-py3-none-any.whl size=59055 sha256=75d1cf242d44c2db3e045a8b71a0652a2ea26b13148bed9fd85af22bdd706dc7\n",
      "  Stored in directory: /Users/lyubi/Library/Caches/pip/wheels/17/b1/27/a08cd47cae31d28f2dd8951e3e2fe78e9ce3f8ee93afe01906\n",
      "Successfully built bioinfokit\n",
      "Installing collected packages: textwrap3, matplotlib-venn, adjustText, bioinfokit\n",
      "Successfully installed adjustText-1.1.1 bioinfokit-2.1.3 matplotlib-venn-0.11.10 textwrap3-0.9.2\n"
     ]
    }
   ],
   "source": [
    "!pip install bioinfokit"
   ]
  },
  {
   "cell_type": "code",
   "execution_count": 8,
   "id": "ee9eb9d1",
   "metadata": {},
   "outputs": [
    {
     "data": {
      "text/html": [
       "<div>\n",
       "<style scoped>\n",
       "    .dataframe tbody tr th:only-of-type {\n",
       "        vertical-align: middle;\n",
       "    }\n",
       "\n",
       "    .dataframe tbody tr th {\n",
       "        vertical-align: top;\n",
       "    }\n",
       "\n",
       "    .dataframe thead th {\n",
       "        text-align: right;\n",
       "    }\n",
       "</style>\n",
       "<table border=\"1\" class=\"dataframe\">\n",
       "  <thead>\n",
       "    <tr style=\"text-align: right;\">\n",
       "      <th></th>\n",
       "      <th>df</th>\n",
       "      <th>sum_sq</th>\n",
       "      <th>mean_sq</th>\n",
       "      <th>F</th>\n",
       "      <th>PR(&gt;F)</th>\n",
       "    </tr>\n",
       "  </thead>\n",
       "  <tbody>\n",
       "    <tr>\n",
       "      <th>C(treatments)</th>\n",
       "      <td>3.0</td>\n",
       "      <td>3010.95</td>\n",
       "      <td>1003.650</td>\n",
       "      <td>17.49281</td>\n",
       "      <td>0.000026</td>\n",
       "    </tr>\n",
       "    <tr>\n",
       "      <th>Residual</th>\n",
       "      <td>16.0</td>\n",
       "      <td>918.00</td>\n",
       "      <td>57.375</td>\n",
       "      <td>NaN</td>\n",
       "      <td>NaN</td>\n",
       "    </tr>\n",
       "  </tbody>\n",
       "</table>\n",
       "</div>"
      ],
      "text/plain": [
       "                 df   sum_sq   mean_sq         F    PR(>F)\n",
       "C(treatments)   3.0  3010.95  1003.650  17.49281  0.000026\n",
       "Residual       16.0   918.00    57.375       NaN       NaN"
      ]
     },
     "execution_count": 8,
     "metadata": {},
     "output_type": "execute_result"
    }
   ],
   "source": [
    "from bioinfokit.analys import stat\n",
    "res = stat()\n",
    "res.anova_stat(df=df_melt, res_var='value', anova_model='value ~ C(treatments)')\n",
    "res.anova_summary"
   ]
  },
  {
   "cell_type": "raw",
   "id": "3925d929",
   "metadata": {},
   "source": [
    "Another example with One-way ANOVA"
   ]
  },
  {
   "cell_type": "code",
   "execution_count": null,
   "id": "2cd8353b",
   "metadata": {},
   "outputs": [],
   "source": [
    "# Performance when each of the engine \n",
    "#Step 1: Creating data groups.\n",
    "\n",
    "performance1 = [89, 89, 88, 78, 79]\n",
    "performance2 = [93, 92, 94, 89, 88]\n",
    "performance3 = [89, 88, 89, 93, 90]\n",
    "performance4 = [81, 78, 81, 92, 82]"
   ]
  },
  {
   "cell_type": "markdown",
   "id": "9bce6030",
   "metadata": {},
   "source": [
    "Step 2: Conduct the one-way ANOVA:\n",
    "\n",
    "Python provides us f_oneway() function from SciPy library using which we can conduct the One-Way ANOVA."
   ]
  },
  {
   "cell_type": "code",
   "execution_count": 9,
   "id": "fb7ea8cc",
   "metadata": {},
   "outputs": [
    {
     "data": {
      "text/plain": [
       "F_onewayResult(statistic=4.625000000000002, pvalue=0.016336459839780215)"
      ]
     },
     "execution_count": 9,
     "metadata": {},
     "output_type": "execute_result"
    }
   ],
   "source": [
    "\n",
    "# Conduct the one-way ANOVA\n",
    "f_oneway(performance1, performance2, performance3, performance4)\n"
   ]
  },
  {
   "cell_type": "markdown",
   "id": "cb5351e0",
   "metadata": {},
   "source": [
    "Analyse the result:\n",
    "\n",
    "The F statistic and p-value turn out to be equal to 4.625 and 0.016336498 respectively. Since the p-value is less than 0.05 hence we would reject the null hypothesis. This implies that we have sufficient proof to say that there exists a difference in the performance among four different engine oils. \n"
   ]
  },
  {
   "cell_type": "raw",
   "id": "5e68b4a6",
   "metadata": {},
   "source": [
    "TWO-WAY ANOVA"
   ]
  },
  {
   "cell_type": "code",
   "execution_count": 10,
   "id": "f90ecbd2",
   "metadata": {},
   "outputs": [],
   "source": [
    "# Importing libraries \n",
    "import numpy as np \n",
    "import pandas as pd \n",
    "\n",
    "# Create a dataframe \n",
    "dataframe = pd.DataFrame({'Fertilizer': np.repeat(['daily', 'weekly'], 15), \n",
    "                        'Watering': np.repeat(['daily', 'weekly'], 15), \n",
    "                        'height': [14, 16, 15, 15, 16, 13, 12, 11, 14, \n",
    "                                        15, 16, 16, 17, 18, 14, 13, 14, 14, \n",
    "                                        14, 15, 16, 16, 17, 18, 14, 13, 14, \n",
    "                                        14, 14, 15]}) \n"
   ]
  },
  {
   "cell_type": "raw",
   "id": "4a7d651b",
   "metadata": {},
   "source": [
    "Syntax:\n",
    "\n",
    "sm.stats.anova_lm(model, type=2)\n",
    "\n",
    "Parameters:\n",
    "\n",
    "model: It represents model statistics\n",
    "type: It represents the type of Anova test to perform that is { I or II or III or 1 or 2 or 3 }"
   ]
  },
  {
   "cell_type": "code",
   "execution_count": 14,
   "id": "61dfb6d8",
   "metadata": {},
   "outputs": [
    {
     "name": "stdout",
     "output_type": "stream",
     "text": [
      "                             df     sum_sq   mean_sq         F    PR(>F)\n",
      "C(Fertilizer)               1.0   0.033333  0.033333  0.012069  0.913305\n",
      "C(Watering)                 1.0   1.421614  1.421614  0.514722  0.479045\n",
      "C(Fertilizer):C(Watering)   1.0   0.223698  0.223698  0.080994  0.778049\n",
      "Residual                   28.0  77.333333  2.761905       NaN       NaN\n"
     ]
    }
   ],
   "source": [
    "# Importing libraries \n",
    "import statsmodels.api as sm \n",
    "from statsmodels.formula.api import ols \n",
    "\n",
    "model = ols('height ~ C(Fertilizer) + C(Watering) + \\\n",
    "            C(Fertilizer):C(Watering)', \n",
    "            data=dataframe).fit() \n",
    "\n",
    "result = sm.stats.anova_lm(model, type=2) \n",
    " \n",
    "print(result) "
   ]
  },
  {
   "cell_type": "markdown",
   "id": "0bf8aaca",
   "metadata": {},
   "source": [
    "# F-test "
   ]
  },
  {
   "cell_type": "code",
   "execution_count": 16,
   "id": "c4b87d31",
   "metadata": {},
   "outputs": [],
   "source": [
    "import numpy as np\n",
    "import scipy.stats as stats\n",
    "\n",
    "# Create the data for two groups\n",
    "group1 = np.random.rand(50)\n",
    "group2 = np.random.rand(55)\n",
    "\n",
    "# Calculate the sample variances\n",
    "variance1 = np.var(group1, ddof=1)\n",
    "variance2 = np.var(group2, ddof=1)"
   ]
  },
  {
   "cell_type": "code",
   "execution_count": 18,
   "id": "888b096b",
   "metadata": {},
   "outputs": [
    {
     "name": "stdout",
     "output_type": "stream",
     "text": [
      "Degree of freedom 1: 49\n",
      "Degree of freedom 2: 54\n",
      "F-statistic: 1.0579922456799777\n",
      "p-value: 0.5814735012788873\n"
     ]
    }
   ],
   "source": [
    "# Calculate the F-statistic\n",
    "f_value = variance1 / variance2\n",
    "\n",
    "# Calculate the degrees of freedom\n",
    "df1 = len(group1) - 1\n",
    "df2 = len(group2) - 1\n",
    "\n",
    "# Calculate the p-value\n",
    "p_value = stats.f.cdf(f_value, df1, df2)\n",
    "\n",
    "# Print the results\n",
    "print('Degree of freedom 1:',df1)\n",
    "print('Degree of freedom 2:',df2)\n",
    "print(\"F-statistic:\", f_value)\n",
    "print(\"p-value:\", p_value)\n"
   ]
  },
  {
   "cell_type": "code",
   "execution_count": null,
   "id": "b350c343",
   "metadata": {},
   "outputs": [],
   "source": []
  }
 ],
 "metadata": {
  "kernelspec": {
   "display_name": "Python 3 (ipykernel)",
   "language": "python",
   "name": "python3"
  },
  "language_info": {
   "codemirror_mode": {
    "name": "ipython",
    "version": 3
   },
   "file_extension": ".py",
   "mimetype": "text/x-python",
   "name": "python",
   "nbconvert_exporter": "python",
   "pygments_lexer": "ipython3",
   "version": "3.11.5"
  }
 },
 "nbformat": 4,
 "nbformat_minor": 5
}
