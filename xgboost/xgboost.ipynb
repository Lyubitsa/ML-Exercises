{
 "cells": [
  {
   "cell_type": "code",
   "execution_count": 1,
   "id": "2aabc381",
   "metadata": {},
   "outputs": [
    {
     "name": "stdout",
     "output_type": "stream",
     "text": [
      "Requirement already satisfied: xgboost in /opt/anaconda3/lib/python3.11/site-packages (2.0.3)\n",
      "Requirement already satisfied: numpy in /opt/anaconda3/lib/python3.11/site-packages (from xgboost) (1.23.5)\n",
      "Requirement already satisfied: scipy in /opt/anaconda3/lib/python3.11/site-packages (from xgboost) (1.11.4)\n",
      "Note: you may need to restart the kernel to use updated packages.\n"
     ]
    }
   ],
   "source": [
    "pip install xgboost"
   ]
  },
  {
   "cell_type": "code",
   "execution_count": 2,
   "id": "a115c997",
   "metadata": {
    "scrolled": true
   },
   "outputs": [],
   "source": [
    "import numpy as np\n",
    "import pandas as pd\n",
    "from xgboost import XGBRegressor\n",
    "from sklearn.metrics import mean_absolute_error\n",
    "from sklearn.model_selection import train_test_split\n",
    "\n",
    "import matplotlib.pyplot as plt\n",
    "import seaborn as sns\n",
    "import plotly.express as px\n",
    "\n",
    "import warnings\n",
    "warnings.filterwarnings(\"ignore\")\n",
    "warnings.simplefilter(\"ignore\")"
   ]
  },
  {
   "cell_type": "code",
   "execution_count": 3,
   "id": "824b61fa",
   "metadata": {},
   "outputs": [
    {
     "data": {
      "text/html": [
       "<div>\n",
       "<style scoped>\n",
       "    .dataframe tbody tr th:only-of-type {\n",
       "        vertical-align: middle;\n",
       "    }\n",
       "\n",
       "    .dataframe tbody tr th {\n",
       "        vertical-align: top;\n",
       "    }\n",
       "\n",
       "    .dataframe thead th {\n",
       "        text-align: right;\n",
       "    }\n",
       "</style>\n",
       "<table border=\"1\" class=\"dataframe\">\n",
       "  <thead>\n",
       "    <tr style=\"text-align: right;\">\n",
       "      <th></th>\n",
       "      <th>Price</th>\n",
       "      <th>Bedroom</th>\n",
       "      <th>Space</th>\n",
       "      <th>Room</th>\n",
       "      <th>Lot</th>\n",
       "      <th>Tax</th>\n",
       "      <th>Bathroom</th>\n",
       "      <th>Garage</th>\n",
       "      <th>Condition</th>\n",
       "    </tr>\n",
       "  </thead>\n",
       "  <tbody>\n",
       "    <tr>\n",
       "      <th>0</th>\n",
       "      <td>53.0</td>\n",
       "      <td>2.0</td>\n",
       "      <td>967.0</td>\n",
       "      <td>5.0</td>\n",
       "      <td>39.0</td>\n",
       "      <td>652.0</td>\n",
       "      <td>1.5</td>\n",
       "      <td>0.0</td>\n",
       "      <td>0.0</td>\n",
       "    </tr>\n",
       "    <tr>\n",
       "      <th>1</th>\n",
       "      <td>55.0</td>\n",
       "      <td>2.0</td>\n",
       "      <td>815.0</td>\n",
       "      <td>5.0</td>\n",
       "      <td>33.0</td>\n",
       "      <td>1000.0</td>\n",
       "      <td>1.0</td>\n",
       "      <td>2.0</td>\n",
       "      <td>1.0</td>\n",
       "    </tr>\n",
       "    <tr>\n",
       "      <th>2</th>\n",
       "      <td>56.0</td>\n",
       "      <td>3.0</td>\n",
       "      <td>900.0</td>\n",
       "      <td>5.0</td>\n",
       "      <td>35.0</td>\n",
       "      <td>897.0</td>\n",
       "      <td>1.5</td>\n",
       "      <td>1.0</td>\n",
       "      <td>0.0</td>\n",
       "    </tr>\n",
       "    <tr>\n",
       "      <th>3</th>\n",
       "      <td>58.0</td>\n",
       "      <td>3.0</td>\n",
       "      <td>1007.0</td>\n",
       "      <td>6.0</td>\n",
       "      <td>24.0</td>\n",
       "      <td>964.0</td>\n",
       "      <td>1.5</td>\n",
       "      <td>2.0</td>\n",
       "      <td>0.0</td>\n",
       "    </tr>\n",
       "    <tr>\n",
       "      <th>4</th>\n",
       "      <td>64.0</td>\n",
       "      <td>3.0</td>\n",
       "      <td>1100.0</td>\n",
       "      <td>7.0</td>\n",
       "      <td>50.0</td>\n",
       "      <td>1099.0</td>\n",
       "      <td>1.5</td>\n",
       "      <td>1.5</td>\n",
       "      <td>0.0</td>\n",
       "    </tr>\n",
       "    <tr>\n",
       "      <th>...</th>\n",
       "      <td>...</td>\n",
       "      <td>...</td>\n",
       "      <td>...</td>\n",
       "      <td>...</td>\n",
       "      <td>...</td>\n",
       "      <td>...</td>\n",
       "      <td>...</td>\n",
       "      <td>...</td>\n",
       "      <td>...</td>\n",
       "    </tr>\n",
       "    <tr>\n",
       "      <th>152</th>\n",
       "      <td>44.0</td>\n",
       "      <td>3.0</td>\n",
       "      <td>820.0</td>\n",
       "      <td>5.0</td>\n",
       "      <td>27.0</td>\n",
       "      <td>NaN</td>\n",
       "      <td>1.0</td>\n",
       "      <td>0.0</td>\n",
       "      <td>1.0</td>\n",
       "    </tr>\n",
       "    <tr>\n",
       "      <th>153</th>\n",
       "      <td>43.0</td>\n",
       "      <td>2.0</td>\n",
       "      <td>593.0</td>\n",
       "      <td>4.0</td>\n",
       "      <td>30.0</td>\n",
       "      <td>465.0</td>\n",
       "      <td>2.0</td>\n",
       "      <td>1.0</td>\n",
       "      <td>0.0</td>\n",
       "    </tr>\n",
       "    <tr>\n",
       "      <th>154</th>\n",
       "      <td>53.0</td>\n",
       "      <td>3.0</td>\n",
       "      <td>716.0</td>\n",
       "      <td>6.0</td>\n",
       "      <td>30.0</td>\n",
       "      <td>585.0</td>\n",
       "      <td>1.0</td>\n",
       "      <td>2.0</td>\n",
       "      <td>1.0</td>\n",
       "    </tr>\n",
       "    <tr>\n",
       "      <th>155</th>\n",
       "      <td>62.0</td>\n",
       "      <td>4.0</td>\n",
       "      <td>951.0</td>\n",
       "      <td>7.0</td>\n",
       "      <td>30.0</td>\n",
       "      <td>895.0</td>\n",
       "      <td>2.0</td>\n",
       "      <td>1.0</td>\n",
       "      <td>0.0</td>\n",
       "    </tr>\n",
       "    <tr>\n",
       "      <th>156</th>\n",
       "      <td>NaN</td>\n",
       "      <td>NaN</td>\n",
       "      <td>NaN</td>\n",
       "      <td>NaN</td>\n",
       "      <td>NaN</td>\n",
       "      <td>NaN</td>\n",
       "      <td>NaN</td>\n",
       "      <td>NaN</td>\n",
       "      <td>NaN</td>\n",
       "    </tr>\n",
       "  </tbody>\n",
       "</table>\n",
       "<p>157 rows × 9 columns</p>\n",
       "</div>"
      ],
      "text/plain": [
       "     Price  Bedroom   Space  Room   Lot     Tax  Bathroom  Garage  Condition\n",
       "0     53.0      2.0   967.0   5.0  39.0   652.0       1.5     0.0        0.0\n",
       "1     55.0      2.0   815.0   5.0  33.0  1000.0       1.0     2.0        1.0\n",
       "2     56.0      3.0   900.0   5.0  35.0   897.0       1.5     1.0        0.0\n",
       "3     58.0      3.0  1007.0   6.0  24.0   964.0       1.5     2.0        0.0\n",
       "4     64.0      3.0  1100.0   7.0  50.0  1099.0       1.5     1.5        0.0\n",
       "..     ...      ...     ...   ...   ...     ...       ...     ...        ...\n",
       "152   44.0      3.0   820.0   5.0  27.0     NaN       1.0     0.0        1.0\n",
       "153   43.0      2.0   593.0   4.0  30.0   465.0       2.0     1.0        0.0\n",
       "154   53.0      3.0   716.0   6.0  30.0   585.0       1.0     2.0        1.0\n",
       "155   62.0      4.0   951.0   7.0  30.0   895.0       2.0     1.0        0.0\n",
       "156    NaN      NaN     NaN   NaN   NaN     NaN       NaN     NaN        NaN\n",
       "\n",
       "[157 rows x 9 columns]"
      ]
     },
     "execution_count": 3,
     "metadata": {},
     "output_type": "execute_result"
    }
   ],
   "source": [
    "df = pd.read_csv(\"chicago_house_price.csv\")\n",
    "df.columns = [col.replace(' ', '_') for col in df.columns]\n",
    "df"
   ]
  },
  {
   "cell_type": "code",
   "execution_count": 4,
   "id": "e24dc50e",
   "metadata": {},
   "outputs": [
    {
     "data": {
      "text/plain": [
       "Price         1\n",
       "Bedroom       1\n",
       "Space        11\n",
       "Room          1\n",
       "Lot          11\n",
       "Tax          10\n",
       "Bathroom      1\n",
       "Garage        1\n",
       "Condition     1\n",
       "dtype: int64"
      ]
     },
     "execution_count": 4,
     "metadata": {},
     "output_type": "execute_result"
    }
   ],
   "source": [
    "df.isnull().sum()"
   ]
  },
  {
   "cell_type": "code",
   "execution_count": 5,
   "id": "58d0574a",
   "metadata": {},
   "outputs": [
    {
     "data": {
      "text/plain": [
       "['Price',\n",
       " 'Bedroom',\n",
       " 'Space',\n",
       " 'Room',\n",
       " 'Lot',\n",
       " 'Tax',\n",
       " 'Bathroom',\n",
       " 'Garage',\n",
       " 'Condition']"
      ]
     },
     "execution_count": 5,
     "metadata": {},
     "output_type": "execute_result"
    }
   ],
   "source": [
    "cols_with_missing = [col for col in df.columns\n",
    "                     if df[col].isnull().any()]\n",
    "cols_with_missing "
   ]
  },
  {
   "cell_type": "code",
   "execution_count": 6,
   "id": "6e809a9e",
   "metadata": {},
   "outputs": [
    {
     "name": "stdout",
     "output_type": "stream",
     "text": [
      "     Price  Bedroom   Space  Room   Lot     Tax  Bathroom  Garage  Condition\n",
      "6     49.0      5.0  1400.0   8.0   NaN   678.0       1.0     1.0        1.0\n",
      "8     72.0      4.0  1290.0   8.0   NaN   800.0       1.5     1.5        0.0\n",
      "17    64.0      4.0  1226.0   8.0  37.0     NaN       2.0     2.0        0.0\n",
      "21    43.0      3.0   596.0   5.0  50.0     NaN       1.0     0.0        0.0\n",
      "32    49.0      4.0  1408.0   8.0   NaN   650.0       1.0     1.0        1.0\n",
      "49    45.0      2.0     NaN   4.0  30.0   470.0       2.0     1.0        0.0\n",
      "52    50.0      2.0     NaN   5.0  39.0   687.0       1.5     0.0        0.0\n",
      "56    65.0      2.0  1145.0   7.0  50.0     NaN       1.5     1.5        0.0\n",
      "68    65.0      2.0     NaN   7.0  30.0   719.0       2.0     0.0        1.0\n",
      "73    44.0      3.0   579.0   5.0   NaN   753.0       1.0     0.0        0.0\n",
      "75    43.0      2.0     NaN   4.0  30.0   425.0       2.0     1.0        0.0\n",
      "79    52.0      2.0   855.0   5.0  33.0     NaN       1.0     2.0        1.0\n",
      "85    71.0      3.0     NaN   6.0  29.0  2687.0       1.0     2.0        0.0\n",
      "95    61.0      4.0     NaN   8.0  37.0   581.0       2.0     2.0        0.0\n",
      "112   70.0      5.0     NaN   8.0  33.0   768.0       1.5     1.5        0.0\n",
      "121   68.0      4.0  1274.0   8.0  37.0     NaN       2.0     2.0        0.0\n",
      "127   44.0      2.0   705.0   4.0   NaN     NaN       2.0     1.0        0.0\n",
      "128   50.0      2.0   634.0   6.0   NaN   536.0       1.0     2.0        1.0\n",
      "129   63.0      3.0     NaN   7.0  30.0   843.0       2.0     1.0        0.0\n",
      "130   49.0      2.0  1049.0   5.0   NaN   710.0       1.5     0.0        0.0\n",
      "134   67.0      2.0  1122.0   7.0   NaN  1131.0       1.5     1.5        0.0\n",
      "136   48.0      4.0  1424.0   8.0   NaN   621.0       1.0     1.0        1.0\n",
      "142   45.0      4.0     NaN   6.0  25.0   649.0       1.0     0.0        0.0\n",
      "143   52.0      5.0  1074.0   7.0  30.0     NaN       1.5     0.0        0.0\n",
      "147   66.0      4.0     NaN   8.0  37.0   565.0       2.0     2.0        0.0\n",
      "148   69.0      1.0   957.0   5.0   NaN  1287.0       1.0     1.0        0.0\n",
      "150   42.0      2.0   639.0   6.0  25.0     NaN       1.0     0.0        0.0\n",
      "152   44.0      3.0   820.0   5.0  27.0     NaN       1.0     0.0        1.0\n",
      "156    NaN      NaN     NaN   NaN   NaN     NaN       NaN     NaN        NaN\n"
     ]
    }
   ],
   "source": [
    "rows_with_nan = df[df.isna().any(axis=1)]\n",
    "print(rows_with_nan)"
   ]
  },
  {
   "cell_type": "code",
   "execution_count": 7,
   "id": "70ac15ff",
   "metadata": {},
   "outputs": [
    {
     "data": {
      "text/html": [
       "<div>\n",
       "<style scoped>\n",
       "    .dataframe tbody tr th:only-of-type {\n",
       "        vertical-align: middle;\n",
       "    }\n",
       "\n",
       "    .dataframe tbody tr th {\n",
       "        vertical-align: top;\n",
       "    }\n",
       "\n",
       "    .dataframe thead th {\n",
       "        text-align: right;\n",
       "    }\n",
       "</style>\n",
       "<table border=\"1\" class=\"dataframe\">\n",
       "  <thead>\n",
       "    <tr style=\"text-align: right;\">\n",
       "      <th></th>\n",
       "      <th>Price</th>\n",
       "      <th>Bedroom</th>\n",
       "      <th>Space</th>\n",
       "      <th>Room</th>\n",
       "      <th>Lot</th>\n",
       "      <th>Tax</th>\n",
       "      <th>Bathroom</th>\n",
       "      <th>Garage</th>\n",
       "      <th>Condition</th>\n",
       "    </tr>\n",
       "  </thead>\n",
       "  <tbody>\n",
       "    <tr>\n",
       "      <th>0</th>\n",
       "      <td>53.0</td>\n",
       "      <td>2.0</td>\n",
       "      <td>967.0</td>\n",
       "      <td>5.0</td>\n",
       "      <td>39.0</td>\n",
       "      <td>652.0</td>\n",
       "      <td>1.5</td>\n",
       "      <td>0.0</td>\n",
       "      <td>0.0</td>\n",
       "    </tr>\n",
       "    <tr>\n",
       "      <th>1</th>\n",
       "      <td>55.0</td>\n",
       "      <td>2.0</td>\n",
       "      <td>815.0</td>\n",
       "      <td>5.0</td>\n",
       "      <td>33.0</td>\n",
       "      <td>1000.0</td>\n",
       "      <td>1.0</td>\n",
       "      <td>2.0</td>\n",
       "      <td>1.0</td>\n",
       "    </tr>\n",
       "    <tr>\n",
       "      <th>2</th>\n",
       "      <td>56.0</td>\n",
       "      <td>3.0</td>\n",
       "      <td>900.0</td>\n",
       "      <td>5.0</td>\n",
       "      <td>35.0</td>\n",
       "      <td>897.0</td>\n",
       "      <td>1.5</td>\n",
       "      <td>1.0</td>\n",
       "      <td>0.0</td>\n",
       "    </tr>\n",
       "    <tr>\n",
       "      <th>3</th>\n",
       "      <td>58.0</td>\n",
       "      <td>3.0</td>\n",
       "      <td>1007.0</td>\n",
       "      <td>6.0</td>\n",
       "      <td>24.0</td>\n",
       "      <td>964.0</td>\n",
       "      <td>1.5</td>\n",
       "      <td>2.0</td>\n",
       "      <td>0.0</td>\n",
       "    </tr>\n",
       "    <tr>\n",
       "      <th>4</th>\n",
       "      <td>64.0</td>\n",
       "      <td>3.0</td>\n",
       "      <td>1100.0</td>\n",
       "      <td>7.0</td>\n",
       "      <td>50.0</td>\n",
       "      <td>1099.0</td>\n",
       "      <td>1.5</td>\n",
       "      <td>1.5</td>\n",
       "      <td>0.0</td>\n",
       "    </tr>\n",
       "    <tr>\n",
       "      <th>...</th>\n",
       "      <td>...</td>\n",
       "      <td>...</td>\n",
       "      <td>...</td>\n",
       "      <td>...</td>\n",
       "      <td>...</td>\n",
       "      <td>...</td>\n",
       "      <td>...</td>\n",
       "      <td>...</td>\n",
       "      <td>...</td>\n",
       "    </tr>\n",
       "    <tr>\n",
       "      <th>151</th>\n",
       "      <td>42.0</td>\n",
       "      <td>3.0</td>\n",
       "      <td>585.0</td>\n",
       "      <td>5.0</td>\n",
       "      <td>50.0</td>\n",
       "      <td>713.0</td>\n",
       "      <td>1.0</td>\n",
       "      <td>0.0</td>\n",
       "      <td>0.0</td>\n",
       "    </tr>\n",
       "    <tr>\n",
       "      <th>152</th>\n",
       "      <td>44.0</td>\n",
       "      <td>3.0</td>\n",
       "      <td>820.0</td>\n",
       "      <td>5.0</td>\n",
       "      <td>27.0</td>\n",
       "      <td>NaN</td>\n",
       "      <td>1.0</td>\n",
       "      <td>0.0</td>\n",
       "      <td>1.0</td>\n",
       "    </tr>\n",
       "    <tr>\n",
       "      <th>153</th>\n",
       "      <td>43.0</td>\n",
       "      <td>2.0</td>\n",
       "      <td>593.0</td>\n",
       "      <td>4.0</td>\n",
       "      <td>30.0</td>\n",
       "      <td>465.0</td>\n",
       "      <td>2.0</td>\n",
       "      <td>1.0</td>\n",
       "      <td>0.0</td>\n",
       "    </tr>\n",
       "    <tr>\n",
       "      <th>154</th>\n",
       "      <td>53.0</td>\n",
       "      <td>3.0</td>\n",
       "      <td>716.0</td>\n",
       "      <td>6.0</td>\n",
       "      <td>30.0</td>\n",
       "      <td>585.0</td>\n",
       "      <td>1.0</td>\n",
       "      <td>2.0</td>\n",
       "      <td>1.0</td>\n",
       "    </tr>\n",
       "    <tr>\n",
       "      <th>155</th>\n",
       "      <td>62.0</td>\n",
       "      <td>4.0</td>\n",
       "      <td>951.0</td>\n",
       "      <td>7.0</td>\n",
       "      <td>30.0</td>\n",
       "      <td>895.0</td>\n",
       "      <td>2.0</td>\n",
       "      <td>1.0</td>\n",
       "      <td>0.0</td>\n",
       "    </tr>\n",
       "  </tbody>\n",
       "</table>\n",
       "<p>156 rows × 9 columns</p>\n",
       "</div>"
      ],
      "text/plain": [
       "     Price  Bedroom   Space  Room   Lot     Tax  Bathroom  Garage  Condition\n",
       "0     53.0      2.0   967.0   5.0  39.0   652.0       1.5     0.0        0.0\n",
       "1     55.0      2.0   815.0   5.0  33.0  1000.0       1.0     2.0        1.0\n",
       "2     56.0      3.0   900.0   5.0  35.0   897.0       1.5     1.0        0.0\n",
       "3     58.0      3.0  1007.0   6.0  24.0   964.0       1.5     2.0        0.0\n",
       "4     64.0      3.0  1100.0   7.0  50.0  1099.0       1.5     1.5        0.0\n",
       "..     ...      ...     ...   ...   ...     ...       ...     ...        ...\n",
       "151   42.0      3.0   585.0   5.0  50.0   713.0       1.0     0.0        0.0\n",
       "152   44.0      3.0   820.0   5.0  27.0     NaN       1.0     0.0        1.0\n",
       "153   43.0      2.0   593.0   4.0  30.0   465.0       2.0     1.0        0.0\n",
       "154   53.0      3.0   716.0   6.0  30.0   585.0       1.0     2.0        1.0\n",
       "155   62.0      4.0   951.0   7.0  30.0   895.0       2.0     1.0        0.0\n",
       "\n",
       "[156 rows x 9 columns]"
      ]
     },
     "execution_count": 7,
     "metadata": {},
     "output_type": "execute_result"
    }
   ],
   "source": [
    "# delete row 156\n",
    "df_copy = df.copy()\n",
    "df_copy= df.drop(156)\n",
    "df_copy"
   ]
  },
  {
   "cell_type": "code",
   "execution_count": 8,
   "id": "dca25296",
   "metadata": {},
   "outputs": [
    {
     "data": {
      "text/plain": [
       "Price         0\n",
       "Bedroom       0\n",
       "Space        10\n",
       "Room          0\n",
       "Lot          10\n",
       "Tax           9\n",
       "Bathroom      0\n",
       "Garage        0\n",
       "Condition     0\n",
       "dtype: int64"
      ]
     },
     "execution_count": 8,
     "metadata": {},
     "output_type": "execute_result"
    }
   ],
   "source": [
    "df_copy.isnull().sum()"
   ]
  },
  {
   "cell_type": "code",
   "execution_count": 9,
   "id": "21e34c0c",
   "metadata": {},
   "outputs": [
    {
     "data": {
      "text/plain": [
       "['Space', 'Lot', 'Tax']"
      ]
     },
     "execution_count": 9,
     "metadata": {},
     "output_type": "execute_result"
    }
   ],
   "source": [
    "cols_with_missing = [col for col in df_copy.columns\n",
    "                     if df_copy[col].isnull().any()]\n",
    "cols_with_missing "
   ]
  },
  {
   "cell_type": "code",
   "execution_count": 10,
   "id": "f456e2d5",
   "metadata": {},
   "outputs": [
    {
     "data": {
      "text/plain": [
       "Price         0\n",
       "Bedroom       0\n",
       "Space        10\n",
       "Room          0\n",
       "Lot          10\n",
       "Tax           9\n",
       "Bathroom      0\n",
       "Garage        0\n",
       "Condition     0\n",
       "dtype: int64"
      ]
     },
     "execution_count": 10,
     "metadata": {},
     "output_type": "execute_result"
    }
   ],
   "source": [
    "df_copy.isnull().sum()"
   ]
  },
  {
   "cell_type": "code",
   "execution_count": 12,
   "id": "f12f1ed0",
   "metadata": {},
   "outputs": [
    {
     "name": "stdout",
     "output_type": "stream",
     "text": [
      "911.7074829931972\n"
     ]
    },
    {
     "data": {
      "text/plain": [
       "Price         0\n",
       "Bedroom       0\n",
       "Space        10\n",
       "Room          0\n",
       "Lot          10\n",
       "Tax           0\n",
       "Bathroom      0\n",
       "Garage        0\n",
       "Condition     0\n",
       "dtype: int64"
      ]
     },
     "execution_count": 12,
     "metadata": {},
     "output_type": "execute_result"
    }
   ],
   "source": [
    "# Impute missing values  with the mean of column 'A'\n",
    "mean_df = df_copy['Tax'].mean()\n",
    "print(mean_df)\n",
    "df_copy['Tax'] = df_copy['Tax'].fillna(mean_df)\n",
    "df_copy.isnull().sum()"
   ]
  },
  {
   "cell_type": "code",
   "execution_count": 13,
   "id": "71e88b35",
   "metadata": {},
   "outputs": [
    {
     "name": "stdout",
     "output_type": "stream",
     "text": [
      "25.0\n"
     ]
    },
    {
     "data": {
      "text/plain": [
       "Price         0\n",
       "Bedroom       0\n",
       "Space        10\n",
       "Room          0\n",
       "Lot           0\n",
       "Tax           0\n",
       "Bathroom      0\n",
       "Garage        0\n",
       "Condition     0\n",
       "dtype: int64"
      ]
     },
     "execution_count": 13,
     "metadata": {},
     "output_type": "execute_result"
    }
   ],
   "source": [
    "# Impute missing values  with the mean of column 'A'\n",
    "mode_df = df_copy['Lot'].mode()[0]\n",
    "print(mode_df)\n",
    "df_copy['Lot'] = df_copy['Lot'].fillna(mode_df)\n",
    "df_copy.isnull().sum()"
   ]
  },
  {
   "cell_type": "code",
   "execution_count": 14,
   "id": "9c4bfe36",
   "metadata": {},
   "outputs": [
    {
     "name": "stdout",
     "output_type": "stream",
     "text": [
      "965.5\n"
     ]
    },
    {
     "data": {
      "text/plain": [
       "Price        0\n",
       "Bedroom      0\n",
       "Space        0\n",
       "Room         0\n",
       "Lot          0\n",
       "Tax          0\n",
       "Bathroom     0\n",
       "Garage       0\n",
       "Condition    0\n",
       "dtype: int64"
      ]
     },
     "execution_count": 14,
     "metadata": {},
     "output_type": "execute_result"
    }
   ],
   "source": [
    "median_df = df_copy['Space'].median()\n",
    "print(median_df)\n",
    "df_copy['Space'] = df_copy['Space'].fillna(median_df)\n",
    "df_copy.isnull().sum()"
   ]
  },
  {
   "cell_type": "code",
   "execution_count": 15,
   "id": "26c119e8",
   "metadata": {},
   "outputs": [
    {
     "name": "stdout",
     "output_type": "stream",
     "text": [
      "<class 'pandas.core.frame.DataFrame'>\n",
      "RangeIndex: 156 entries, 0 to 155\n",
      "Data columns (total 9 columns):\n",
      " #   Column     Non-Null Count  Dtype  \n",
      "---  ------     --------------  -----  \n",
      " 0   Price      156 non-null    float64\n",
      " 1   Bedroom    156 non-null    float64\n",
      " 2   Space      156 non-null    float64\n",
      " 3   Room       156 non-null    float64\n",
      " 4   Lot        156 non-null    float64\n",
      " 5   Tax        156 non-null    float64\n",
      " 6   Bathroom   156 non-null    float64\n",
      " 7   Garage     156 non-null    float64\n",
      " 8   Condition  156 non-null    float64\n",
      "dtypes: float64(9)\n",
      "memory usage: 11.1 KB\n"
     ]
    }
   ],
   "source": [
    "df_copy.info()"
   ]
  },
  {
   "cell_type": "code",
   "execution_count": 16,
   "id": "b55031d0",
   "metadata": {},
   "outputs": [
    {
     "data": {
      "text/html": [
       "<div>\n",
       "<style scoped>\n",
       "    .dataframe tbody tr th:only-of-type {\n",
       "        vertical-align: middle;\n",
       "    }\n",
       "\n",
       "    .dataframe tbody tr th {\n",
       "        vertical-align: top;\n",
       "    }\n",
       "\n",
       "    .dataframe thead th {\n",
       "        text-align: right;\n",
       "    }\n",
       "</style>\n",
       "<table border=\"1\" class=\"dataframe\">\n",
       "  <thead>\n",
       "    <tr style=\"text-align: right;\">\n",
       "      <th></th>\n",
       "      <th>count</th>\n",
       "      <th>mean</th>\n",
       "      <th>std</th>\n",
       "      <th>min</th>\n",
       "      <th>25%</th>\n",
       "      <th>50%</th>\n",
       "      <th>75%</th>\n",
       "      <th>max</th>\n",
       "    </tr>\n",
       "  </thead>\n",
       "  <tbody>\n",
       "    <tr>\n",
       "      <th>Price</th>\n",
       "      <td>156.0</td>\n",
       "      <td>56.474359</td>\n",
       "      <td>12.875307</td>\n",
       "      <td>32.0</td>\n",
       "      <td>46.00</td>\n",
       "      <td>55.0</td>\n",
       "      <td>65.0</td>\n",
       "      <td>90.0</td>\n",
       "    </tr>\n",
       "    <tr>\n",
       "      <th>Bedroom</th>\n",
       "      <td>156.0</td>\n",
       "      <td>3.166667</td>\n",
       "      <td>1.348037</td>\n",
       "      <td>1.0</td>\n",
       "      <td>2.00</td>\n",
       "      <td>3.0</td>\n",
       "      <td>4.0</td>\n",
       "      <td>8.0</td>\n",
       "    </tr>\n",
       "    <tr>\n",
       "      <th>Space</th>\n",
       "      <td>156.0</td>\n",
       "      <td>1088.801282</td>\n",
       "      <td>448.541078</td>\n",
       "      <td>539.0</td>\n",
       "      <td>818.75</td>\n",
       "      <td>965.5</td>\n",
       "      <td>1183.0</td>\n",
       "      <td>2295.0</td>\n",
       "    </tr>\n",
       "    <tr>\n",
       "      <th>Room</th>\n",
       "      <td>156.0</td>\n",
       "      <td>6.500000</td>\n",
       "      <td>1.675247</td>\n",
       "      <td>4.0</td>\n",
       "      <td>5.00</td>\n",
       "      <td>6.0</td>\n",
       "      <td>7.0</td>\n",
       "      <td>12.0</td>\n",
       "    </tr>\n",
       "    <tr>\n",
       "      <th>Lot</th>\n",
       "      <td>156.0</td>\n",
       "      <td>32.307692</td>\n",
       "      <td>8.402469</td>\n",
       "      <td>24.0</td>\n",
       "      <td>25.00</td>\n",
       "      <td>30.0</td>\n",
       "      <td>35.5</td>\n",
       "      <td>50.0</td>\n",
       "    </tr>\n",
       "    <tr>\n",
       "      <th>Tax</th>\n",
       "      <td>156.0</td>\n",
       "      <td>911.707483</td>\n",
       "      <td>430.202056</td>\n",
       "      <td>418.0</td>\n",
       "      <td>674.25</td>\n",
       "      <td>845.5</td>\n",
       "      <td>986.5</td>\n",
       "      <td>2752.0</td>\n",
       "    </tr>\n",
       "    <tr>\n",
       "      <th>Bathroom</th>\n",
       "      <td>156.0</td>\n",
       "      <td>1.480769</td>\n",
       "      <td>0.529408</td>\n",
       "      <td>1.0</td>\n",
       "      <td>1.00</td>\n",
       "      <td>1.5</td>\n",
       "      <td>2.0</td>\n",
       "      <td>3.0</td>\n",
       "    </tr>\n",
       "    <tr>\n",
       "      <th>Garage</th>\n",
       "      <td>156.0</td>\n",
       "      <td>0.846154</td>\n",
       "      <td>0.808454</td>\n",
       "      <td>0.0</td>\n",
       "      <td>0.00</td>\n",
       "      <td>1.0</td>\n",
       "      <td>1.5</td>\n",
       "      <td>2.0</td>\n",
       "    </tr>\n",
       "    <tr>\n",
       "      <th>Condition</th>\n",
       "      <td>156.0</td>\n",
       "      <td>0.230769</td>\n",
       "      <td>0.422682</td>\n",
       "      <td>0.0</td>\n",
       "      <td>0.00</td>\n",
       "      <td>0.0</td>\n",
       "      <td>0.0</td>\n",
       "      <td>1.0</td>\n",
       "    </tr>\n",
       "  </tbody>\n",
       "</table>\n",
       "</div>"
      ],
      "text/plain": [
       "           count         mean         std    min     25%    50%     75%  \\\n",
       "Price      156.0    56.474359   12.875307   32.0   46.00   55.0    65.0   \n",
       "Bedroom    156.0     3.166667    1.348037    1.0    2.00    3.0     4.0   \n",
       "Space      156.0  1088.801282  448.541078  539.0  818.75  965.5  1183.0   \n",
       "Room       156.0     6.500000    1.675247    4.0    5.00    6.0     7.0   \n",
       "Lot        156.0    32.307692    8.402469   24.0   25.00   30.0    35.5   \n",
       "Tax        156.0   911.707483  430.202056  418.0  674.25  845.5   986.5   \n",
       "Bathroom   156.0     1.480769    0.529408    1.0    1.00    1.5     2.0   \n",
       "Garage     156.0     0.846154    0.808454    0.0    0.00    1.0     1.5   \n",
       "Condition  156.0     0.230769    0.422682    0.0    0.00    0.0     0.0   \n",
       "\n",
       "              max  \n",
       "Price        90.0  \n",
       "Bedroom       8.0  \n",
       "Space      2295.0  \n",
       "Room         12.0  \n",
       "Lot          50.0  \n",
       "Tax        2752.0  \n",
       "Bathroom      3.0  \n",
       "Garage        2.0  \n",
       "Condition     1.0  "
      ]
     },
     "execution_count": 16,
     "metadata": {},
     "output_type": "execute_result"
    }
   ],
   "source": [
    "df_copy.describe().T"
   ]
  },
  {
   "cell_type": "code",
   "execution_count": 17,
   "id": "2ebf4216",
   "metadata": {},
   "outputs": [
    {
     "data": {
      "text/plain": [
       "<Axes: >"
      ]
     },
     "execution_count": 17,
     "metadata": {},
     "output_type": "execute_result"
    },
    {
     "data": {
      "image/png": "[encoded data removed]",
      "text/plain": [
       "<Figure size 1000x500 with 2 Axes>"
      ]
     },
     "metadata": {},
     "output_type": "display_data"
    }
   ],
   "source": [
    "corr = df_copy.corr().round(2)\n",
    "plt.figure(figsize = (10,5))\n",
    "sns.heatmap(corr, annot = True )"
   ]
  },
  {
   "cell_type": "code",
   "execution_count": 18,
   "id": "681adf53",
   "metadata": {},
   "outputs": [
    {
     "data": {
      "text/plain": [
       "Index(['Price', 'Bedroom', 'Space', 'Room', 'Lot', 'Tax', 'Bathroom', 'Garage',\n",
       "       'Condition'],\n",
       "      dtype='object')"
      ]
     },
     "execution_count": 18,
     "metadata": {},
     "output_type": "execute_result"
    }
   ],
   "source": [
    "df_copy.columns"
   ]
  },
  {
   "cell_type": "code",
   "execution_count": 19,
   "id": "3729aa5b",
   "metadata": {},
   "outputs": [
    {
     "data": {
      "text/html": [
       "<div>\n",
       "<style scoped>\n",
       "    .dataframe tbody tr th:only-of-type {\n",
       "        vertical-align: middle;\n",
       "    }\n",
       "\n",
       "    .dataframe tbody tr th {\n",
       "        vertical-align: top;\n",
       "    }\n",
       "\n",
       "    .dataframe thead th {\n",
       "        text-align: right;\n",
       "    }\n",
       "</style>\n",
       "<table border=\"1\" class=\"dataframe\">\n",
       "  <thead>\n",
       "    <tr style=\"text-align: right;\">\n",
       "      <th></th>\n",
       "      <th>Room</th>\n",
       "      <th>Space</th>\n",
       "      <th>Lot</th>\n",
       "      <th>Tax</th>\n",
       "      <th>Bathroom</th>\n",
       "      <th>Garage</th>\n",
       "      <th>Bedroom</th>\n",
       "    </tr>\n",
       "  </thead>\n",
       "  <tbody>\n",
       "    <tr>\n",
       "      <th>0</th>\n",
       "      <td>5.0</td>\n",
       "      <td>967.0</td>\n",
       "      <td>39.0</td>\n",
       "      <td>652.000000</td>\n",
       "      <td>1.5</td>\n",
       "      <td>0.0</td>\n",
       "      <td>2.0</td>\n",
       "    </tr>\n",
       "    <tr>\n",
       "      <th>1</th>\n",
       "      <td>5.0</td>\n",
       "      <td>815.0</td>\n",
       "      <td>33.0</td>\n",
       "      <td>1000.000000</td>\n",
       "      <td>1.0</td>\n",
       "      <td>2.0</td>\n",
       "      <td>2.0</td>\n",
       "    </tr>\n",
       "    <tr>\n",
       "      <th>2</th>\n",
       "      <td>5.0</td>\n",
       "      <td>900.0</td>\n",
       "      <td>35.0</td>\n",
       "      <td>897.000000</td>\n",
       "      <td>1.5</td>\n",
       "      <td>1.0</td>\n",
       "      <td>3.0</td>\n",
       "    </tr>\n",
       "    <tr>\n",
       "      <th>3</th>\n",
       "      <td>6.0</td>\n",
       "      <td>1007.0</td>\n",
       "      <td>24.0</td>\n",
       "      <td>964.000000</td>\n",
       "      <td>1.5</td>\n",
       "      <td>2.0</td>\n",
       "      <td>3.0</td>\n",
       "    </tr>\n",
       "    <tr>\n",
       "      <th>4</th>\n",
       "      <td>7.0</td>\n",
       "      <td>1100.0</td>\n",
       "      <td>50.0</td>\n",
       "      <td>1099.000000</td>\n",
       "      <td>1.5</td>\n",
       "      <td>1.5</td>\n",
       "      <td>3.0</td>\n",
       "    </tr>\n",
       "    <tr>\n",
       "      <th>...</th>\n",
       "      <td>...</td>\n",
       "      <td>...</td>\n",
       "      <td>...</td>\n",
       "      <td>...</td>\n",
       "      <td>...</td>\n",
       "      <td>...</td>\n",
       "      <td>...</td>\n",
       "    </tr>\n",
       "    <tr>\n",
       "      <th>151</th>\n",
       "      <td>5.0</td>\n",
       "      <td>585.0</td>\n",
       "      <td>50.0</td>\n",
       "      <td>713.000000</td>\n",
       "      <td>1.0</td>\n",
       "      <td>0.0</td>\n",
       "      <td>3.0</td>\n",
       "    </tr>\n",
       "    <tr>\n",
       "      <th>152</th>\n",
       "      <td>5.0</td>\n",
       "      <td>820.0</td>\n",
       "      <td>27.0</td>\n",
       "      <td>911.707483</td>\n",
       "      <td>1.0</td>\n",
       "      <td>0.0</td>\n",
       "      <td>3.0</td>\n",
       "    </tr>\n",
       "    <tr>\n",
       "      <th>153</th>\n",
       "      <td>4.0</td>\n",
       "      <td>593.0</td>\n",
       "      <td>30.0</td>\n",
       "      <td>465.000000</td>\n",
       "      <td>2.0</td>\n",
       "      <td>1.0</td>\n",
       "      <td>2.0</td>\n",
       "    </tr>\n",
       "    <tr>\n",
       "      <th>154</th>\n",
       "      <td>6.0</td>\n",
       "      <td>716.0</td>\n",
       "      <td>30.0</td>\n",
       "      <td>585.000000</td>\n",
       "      <td>1.0</td>\n",
       "      <td>2.0</td>\n",
       "      <td>3.0</td>\n",
       "    </tr>\n",
       "    <tr>\n",
       "      <th>155</th>\n",
       "      <td>7.0</td>\n",
       "      <td>951.0</td>\n",
       "      <td>30.0</td>\n",
       "      <td>895.000000</td>\n",
       "      <td>2.0</td>\n",
       "      <td>1.0</td>\n",
       "      <td>4.0</td>\n",
       "    </tr>\n",
       "  </tbody>\n",
       "</table>\n",
       "<p>156 rows × 7 columns</p>\n",
       "</div>"
      ],
      "text/plain": [
       "     Room   Space   Lot          Tax  Bathroom  Garage  Bedroom\n",
       "0     5.0   967.0  39.0   652.000000       1.5     0.0      2.0\n",
       "1     5.0   815.0  33.0  1000.000000       1.0     2.0      2.0\n",
       "2     5.0   900.0  35.0   897.000000       1.5     1.0      3.0\n",
       "3     6.0  1007.0  24.0   964.000000       1.5     2.0      3.0\n",
       "4     7.0  1100.0  50.0  1099.000000       1.5     1.5      3.0\n",
       "..    ...     ...   ...          ...       ...     ...      ...\n",
       "151   5.0   585.0  50.0   713.000000       1.0     0.0      3.0\n",
       "152   5.0   820.0  27.0   911.707483       1.0     0.0      3.0\n",
       "153   4.0   593.0  30.0   465.000000       2.0     1.0      2.0\n",
       "154   6.0   716.0  30.0   585.000000       1.0     2.0      3.0\n",
       "155   7.0   951.0  30.0   895.000000       2.0     1.0      4.0\n",
       "\n",
       "[156 rows x 7 columns]"
      ]
     },
     "execution_count": 19,
     "metadata": {},
     "output_type": "execute_result"
    }
   ],
   "source": [
    "cols_need = ['Room', 'Space', 'Lot', 'Tax', 'Bathroom', 'Garage', 'Bedroom']\n",
    "x = df_copy[cols_need]\n",
    "x"
   ]
  },
  {
   "cell_type": "code",
   "execution_count": 20,
   "id": "f8fbb10a",
   "metadata": {},
   "outputs": [
    {
     "data": {
      "text/plain": [
       "0      53.0\n",
       "1      55.0\n",
       "2      56.0\n",
       "3      58.0\n",
       "4      64.0\n",
       "       ... \n",
       "151    42.0\n",
       "152    44.0\n",
       "153    43.0\n",
       "154    53.0\n",
       "155    62.0\n",
       "Name: Price, Length: 156, dtype: float64"
      ]
     },
     "execution_count": 20,
     "metadata": {},
     "output_type": "execute_result"
    }
   ],
   "source": [
    "y = df_copy.Price\n",
    "y"
   ]
  },
  {
   "cell_type": "code",
   "execution_count": 21,
   "id": "eea19159",
   "metadata": {},
   "outputs": [],
   "source": [
    "x_train, x_test, y_train, y_test = train_test_split(x,\n",
    "                                               y,\n",
    "                                               test_size = 0.3)"
   ]
  },
  {
   "cell_type": "code",
   "execution_count": 22,
   "id": "ce10530e",
   "metadata": {},
   "outputs": [
    {
     "data": {
      "text/plain": [
       "0.9985314063551899"
      ]
     },
     "execution_count": 22,
     "metadata": {},
     "output_type": "execute_result"
    }
   ],
   "source": [
    "xgb_with_lr = XGBRegressor(n_estimators=1000, learning_rate=0.05)\n",
    "xgb_with_lr.fit(x_train, y_train, \n",
    "             early_stopping_rounds=5, \n",
    "             eval_set=[(x_test, y_test)],\n",
    "             verbose=False)\n",
    "xgb_with_lr.score(x_train, y_train)"
   ]
  },
  {
   "cell_type": "code",
   "execution_count": 23,
   "id": "1ec13a31",
   "metadata": {},
   "outputs": [
    {
     "data": {
      "text/plain": [
       "0.9985314063551899"
      ]
     },
     "execution_count": 23,
     "metadata": {},
     "output_type": "execute_result"
    }
   ],
   "source": [
    "xgb_with_njobs = XGBRegressor(n_estimators=1000, learning_rate=0.05, n_jobs=4)\n",
    "xgb_with_njobs.fit(x_train, y_train, \n",
    "             early_stopping_rounds=5, \n",
    "             eval_set=[(x_test, y_test)],\n",
    "             verbose=False)\n",
    "xgb_with_njobs.score(x_train, y_train)"
   ]
  },
  {
   "cell_type": "code",
   "execution_count": null,
   "id": "d246425e",
   "metadata": {},
   "outputs": [],
   "source": []
  },
  {
   "cell_type": "code",
   "execution_count": null,
   "id": "30db0a7a",
   "metadata": {},
   "outputs": [],
   "source": []
  }
 ],
 "metadata": {
  "kernelspec": {
   "display_name": "Python 3 (ipykernel)",
   "language": "python",
   "name": "python3"
  },
  "language_info": {
   "codemirror_mode": {
    "name": "ipython",
    "version": 3
   },
   "file_extension": ".py",
   "mimetype": "text/x-python",
   "name": "python",
   "nbconvert_exporter": "python",
   "pygments_lexer": "ipython3",
   "version": "3.11.5"
  }
 },
 "nbformat": 4,
 "nbformat_minor": 5
}
